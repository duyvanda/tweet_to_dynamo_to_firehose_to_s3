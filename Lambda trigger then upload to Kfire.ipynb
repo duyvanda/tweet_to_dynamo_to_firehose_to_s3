{
 "cells": [
  {
   "cell_type": "markdown",
   "id": "a15a9ab7",
   "metadata": {},
   "source": [
    "#https://www.youtube.com/watch?v=SvfLORe3KHo\n",
    "#https://www.youtube.com/watch?v=RhLUyJxS8Tk\n",
    "import json\n",
    "\n",
    "print('Loading function')\n",
    "\n",
    "def lambda_handler(event, context):\n",
    "\tprint('------------------------')\n",
    "\tprint(event)\n",
    "\t#1. Iterate over each record\n",
    "\ttry:\n",
    "\t\tfor record in event['Records']:\n",
    "\t\t\t#2. Handle event by type\n",
    "\t\t\tif record['eventName'] == 'INSERT':\n",
    "\t\t\t\thandle_insert(record)\n",
    "\t\t\telif record['eventName'] == 'MODIFY':\n",
    "\t\t\t\thandle_modify(record)\n",
    "\t\t\telif record['eventName'] == 'REMOVE':\n",
    "\t\t\t\thandle_remove(record)\n",
    "\t\tprint('------------------------')\n",
    "\t\treturn \"Success!\"\n",
    "\texcept Exception as e: \n",
    "\t\tprint(e)\n",
    "\t\tprint('------------------------')\n",
    "\t\treturn \"Error\"\n",
    "\n",
    "\n",
    "def handle_insert(record):\n",
    "\tprint(\"Handling INSERT Event\")\n",
    "\t\n",
    "\t#3a. Get newImage content\n",
    "\tnewImage = record['dynamodb']['NewImage']\n",
    "\t\n",
    "\t#3b. Parse values\n",
    "\tnewPlayerId = newImage['playerId']['S']\n",
    "\n",
    "\t#3c. Print it\n",
    "\tprint ('New row added with playerId=' + newPlayerId)\n",
    "\n",
    "\tprint(\"Done handling INSERT Event\")\n",
    "\n",
    "def handle_modify(record):\n",
    "\tprint(\"Handling MODIFY Event\")\n",
    "\n",
    "\t#3a. Parse oldImage and score\n",
    "\toldImage = record['dynamodb']['OldImage']\n",
    "\toldScore = oldImage['score']['N']\n",
    "\t\n",
    "\t#3b. Parse oldImage and score\n",
    "\tnewImage = record['dynamodb']['NewImage']\n",
    "\tnewScore = newImage['score']['N']\n",
    "\n",
    "\t#3c. Check for change\n",
    "\tif oldScore != newScore:\n",
    "\t\tprint('Scores changed - oldScore=' + str(oldScore) + ', newScore=' + str(newScore))\n",
    "\n",
    "\tprint(\"Done handling MODIFY Event\")\n",
    "\n",
    "def handle_remove(record):\n",
    "\tprint(\"Handling REMOVE Event\")\n",
    "\n",
    "\t#3a. Parse oldImage\n",
    "\toldImage = record['dynamodb']['OldImage']\n",
    "\t\n",
    "\t#3b. Parse values\n",
    "\toldPlayerId = oldImage['playerId']['S']\n",
    "\n",
    "\t#3c. Print it\n",
    "\tprint ('Row removed with playerId=' + oldPlayerId)\n",
    "\n",
    "\tprint(\"Done handling REMOVE Event\")"
   ]
  },
  {
   "cell_type": "code",
   "execution_count": 55,
   "id": "619f032a",
   "metadata": {},
   "outputs": [],
   "source": [
    "import json\n",
    "import boto3\n",
    "import requests\n",
    "import re\n",
    "from bson import json_util"
   ]
  },
  {
   "cell_type": "code",
   "execution_count": 9,
   "id": "5981933c",
   "metadata": {},
   "outputs": [],
   "source": [
    "client = boto3.client('firehose')"
   ]
  },
  {
   "cell_type": "code",
   "execution_count": 10,
   "id": "b480054c",
   "metadata": {},
   "outputs": [],
   "source": [
    "response = client.describe_delivery_stream(DeliveryStreamName='ddb-stream-to-s3', Limit = 123)"
   ]
  },
  {
   "cell_type": "markdown",
   "id": "d013bd4e",
   "metadata": {},
   "source": [
    "Describe = json.dumps(response, indent = 3, default=json_util.default)"
   ]
  },
  {
   "cell_type": "code",
   "execution_count": 123,
   "id": "2fb47712",
   "metadata": {},
   "outputs": [],
   "source": [
    "event =  {'eventID': '277688d61b272be8574fe2d2186be3c7', 'eventName': 'INSERT', 'eventVersion': '1.1', 'eventSource': 'aws:dynamodb', 'awsRegion': 'ap-southeast-1', 'dynamodb': {'ApproximateCreationDateTime': 1625458660.0, 'Keys': {'connection': {'S': 'thanhluong1'}}, 'NewImage': {'password': {'N': '123456'}, 'connection': {'S': 'thanhluong1'}}, 'SequenceNumber': '14300000000005329690951', 'SizeBytes': 54, 'StreamViewType': 'NEW_AND_OLD_IMAGES'}, 'eventSourceARN': 'arn:aws:dynamodb:ap-southeast-1:234810900335:table/lambdaTrigger/stream/2021-07-05T02:36:42.776'}"
   ]
  },
  {
   "cell_type": "code",
   "execution_count": 124,
   "id": "05696348",
   "metadata": {},
   "outputs": [
    {
     "data": {
      "text/plain": [
       "dict_keys(['eventID', 'eventName', 'eventVersion', 'eventSource', 'awsRegion', 'dynamodb', 'eventSourceARN'])"
      ]
     },
     "execution_count": 124,
     "metadata": {},
     "output_type": "execute_result"
    }
   ],
   "source": [
    "event.keys()"
   ]
  },
  {
   "cell_type": "code",
   "execution_count": 125,
   "id": "317bd0f2",
   "metadata": {
    "scrolled": true
   },
   "outputs": [
    {
     "data": {
      "text/plain": [
       "'thanhluong1'"
      ]
     },
     "execution_count": 125,
     "metadata": {},
     "output_type": "execute_result"
    }
   ],
   "source": [
    "new_connection = event['dynamodb']['NewImage']['connection']['S']\n",
    "new_connection"
   ]
  },
  {
   "cell_type": "code",
   "execution_count": 126,
   "id": "15aa32db",
   "metadata": {},
   "outputs": [
    {
     "data": {
      "text/plain": [
       "123456"
      ]
     },
     "execution_count": 126,
     "metadata": {},
     "output_type": "execute_result"
    }
   ],
   "source": [
    "new_password = int(event['dynamodb']['NewImage']['password']['N'])\n",
    "new_password"
   ]
  },
  {
   "cell_type": "code",
   "execution_count": 127,
   "id": "ce9458a6",
   "metadata": {},
   "outputs": [
    {
     "name": "stdout",
     "output_type": "stream",
     "text": [
      "{'connection': 'thanhluong1', 'password': '123456'}\n",
      "<class 'dict'>\n"
     ]
    }
   ],
   "source": [
    "data = {'connection':'%s' %new_connection, 'password':'%d' %new_password}\n",
    "print(data)\n",
    "print(type(data))"
   ]
  },
  {
   "cell_type": "code",
   "execution_count": 128,
   "id": "a1ce0614",
   "metadata": {},
   "outputs": [
    {
     "name": "stdout",
     "output_type": "stream",
     "text": [
      "b'{\"connection\": \"thanhluong1\", \"password\": \"123456\"}\\n'\n"
     ]
    }
   ],
   "source": [
    "d = json.dumps(data)\n",
    "d = d+\"\\n\"\n",
    "data = d.encode(\"utf-8\")\n",
    "print(data)"
   ]
  },
  {
   "cell_type": "code",
   "execution_count": 129,
   "id": "f94a77ce",
   "metadata": {},
   "outputs": [
    {
     "name": "stdout",
     "output_type": "stream",
     "text": [
      "{\n",
      "   \"RecordId\": \"udZUauxYQ/wyqiXo3uwDO08/pSxDSNQz7X0YVwn5bVjDRZ7W6hc4OBSEuEErqVo87kAhmSAlVbl+lKRXvuLh45tTOmKYH7fbaw6P04CIYWRoJ6C5k6eUohr26cR+TQexWj8i8ZUC8fGMWy05QgOxGRsDxXU8vgci/kwVa5NV4O89ol6gmJ9LsjjH7CpH/J81QQCwYqYsg0EdPZGjJYYPMyerJq/AZrDB\",\n",
      "   \"Encrypted\": false,\n",
      "   \"ResponseMetadata\": {\n",
      "      \"RequestId\": \"de9701e6-2150-e10a-87cb-8bab0de141fd\",\n",
      "      \"HTTPStatusCode\": 200,\n",
      "      \"HTTPHeaders\": {\n",
      "         \"x-amzn-requestid\": \"de9701e6-2150-e10a-87cb-8bab0de141fd\",\n",
      "         \"x-amz-id-2\": \"4RXpvaDj+3FSdpJAKkXodtKLmKIz055+o0yWGPKJj8XLaoxXfLZM5HUuXu+Y6rMwGhcjYZWWnR79BzwFCzr27l7GuZhTFqUe\",\n",
      "         \"content-type\": \"application/x-amz-json-1.1\",\n",
      "         \"content-length\": \"257\",\n",
      "         \"date\": \"Mon, 05 Jul 2021 04:18:20 GMT\"\n",
      "      },\n",
      "      \"RetryAttempts\": 0\n",
      "   }\n",
      "}\n"
     ]
    }
   ],
   "source": [
    "client = boto3.client('firehose')\n",
    "response = client.put_record(DeliveryStreamName='ddb-stream-to-s3', Record={'Data':data})\n",
    "print(json.dumps(response, indent = 3))"
   ]
  },
  {
   "cell_type": "code",
   "execution_count": null,
   "id": "eb7d569b",
   "metadata": {},
   "outputs": [],
   "source": []
  }
 ],
 "metadata": {
  "kernelspec": {
   "display_name": "Python 3",
   "language": "python",
   "name": "python3"
  },
  "language_info": {
   "codemirror_mode": {
    "name": "ipython",
    "version": 3
   },
   "file_extension": ".py",
   "mimetype": "text/x-python",
   "name": "python",
   "nbconvert_exporter": "python",
   "pygments_lexer": "ipython3",
   "version": "3.8.8"
  }
 },
 "nbformat": 4,
 "nbformat_minor": 5
}
