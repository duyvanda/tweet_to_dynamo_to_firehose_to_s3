{
 "cells": [
  {
   "cell_type": "code",
   "execution_count": null,
   "id": "c2dd0f13",
   "metadata": {
    "scrolled": true
   },
   "outputs": [],
   "source": [
    "!PIP install names"
   ]
  },
  {
   "cell_type": "code",
   "execution_count": null,
   "id": "d9ed5b24",
   "metadata": {},
   "outputs": [],
   "source": [
    "!pip install loremipsum"
   ]
  },
  {
   "cell_type": "code",
   "execution_count": null,
   "id": "fba8aa0c",
   "metadata": {
    "scrolled": true
   },
   "outputs": [],
   "source": [
    "import names\n",
    "import random\n",
    "import time\n",
    "from loremipsum import get_sentences"
   ]
  },
  {
   "cell_type": "code",
   "execution_count": null,
   "id": "81f5446a",
   "metadata": {},
   "outputs": [],
   "source": [
    "name1 = names.get_first_name()\n",
    "print(name1)"
   ]
  },
  {
   "cell_type": "code",
   "execution_count": null,
   "id": "d3c02f44",
   "metadata": {},
   "outputs": [],
   "source": [
    "tweet_id = random.randint(pow(10,16),pow(10,17)-1)\n",
    "tweet_id"
   ]
  },
  {
   "cell_type": "code",
   "execution_count": null,
   "id": "d582b929",
   "metadata": {},
   "outputs": [],
   "source": [
    "created_at = time.strftime(\"%a %b %d %H:%M:%S +0000 %Y\", time.gmtime())\n",
    "created_at"
   ]
  },
  {
   "cell_type": "code",
   "execution_count": null,
   "id": "5a3125fe",
   "metadata": {},
   "outputs": [],
   "source": [
    "str(get_sentences(1)[0])"
   ]
  },
  {
   "cell_type": "code",
   "execution_count": null,
   "id": "a4ffd5d4",
   "metadata": {},
   "outputs": [],
   "source": [
    "user_id    = names.get_first_name()\n",
    "tweet_id   = str(random.randint(pow(10,16),pow(10,17)-1))\n",
    "created_at = time.strftime(\"%a %b %d %H:%M:%S +0000 %Y\", time.gmtime())\n",
    "language   = random.choice(['de', 'en', 'es', 'fr', 'id', 'nl', 'pt', 'sk'])\n",
    "text       = str(get_sentences(1)[0])"
   ]
  },
  {
   "cell_type": "code",
   "execution_count": null,
   "id": "75464662",
   "metadata": {},
   "outputs": [],
   "source": [
    "get_sentences()"
   ]
  },
  {
   "cell_type": "code",
   "execution_count": null,
   "id": "02730c93",
   "metadata": {},
   "outputs": [],
   "source": [
    "while(True) :\n",
    "    # Generate fake tweet\n",
    "    user_id    = names.get_first_name()\n",
    "    tweet_id   = str(random.randint(pow(10,16),pow(10,17)-1))\n",
    "    created_at = time.strftime(\"%a %b %d %H:%M:%S +0000 %Y\", time.gmtime())\n",
    "    language   = random.choice(['de', 'en', 'es', 'fr', 'id', 'nl', 'pt', 'sk'])\n",
    "    text       = str(get_sentences(1)[0])\n",
    "    print(user_id)\n",
    "    print(tweet_id)\n",
    "    print(created_at)\n",
    "    print(language)\n",
    "    print(text)\n",
    "    time.sleep(1)"
   ]
  },
  {
   "cell_type": "code",
   "execution_count": null,
   "id": "d52eab26",
   "metadata": {},
   "outputs": [],
   "source": [
    "from loremipsum import generate_paragraph"
   ]
  },
  {
   "cell_type": "code",
   "execution_count": null,
   "id": "0fceb9e2",
   "metadata": {},
   "outputs": [],
   "source": [
    "pip install boto3"
   ]
  },
  {
   "cell_type": "code",
   "execution_count": null,
   "id": "c96ce940",
   "metadata": {},
   "outputs": [],
   "source": [
    "import boto3"
   ]
  },
  {
   "cell_type": "code",
   "execution_count": null,
   "id": "0a29ca90",
   "metadata": {},
   "outputs": [],
   "source": [
    "!pip install awscli"
   ]
  },
  {
   "cell_type": "code",
   "execution_count": null,
   "id": "81e0648d",
   "metadata": {},
   "outputs": [],
   "source": [
    "!aws configure"
   ]
  },
  {
   "cell_type": "code",
   "execution_count": 1,
   "id": "a291c83c",
   "metadata": {},
   "outputs": [],
   "source": [
    "Item={\n",
    "    'Name':'Duy',\n",
    "    'Age':37,\n",
    "    'Location':'VN'\n",
    "}"
   ]
  },
  {
   "cell_type": "code",
   "execution_count": 2,
   "id": "8c2a162c",
   "metadata": {},
   "outputs": [
    {
     "data": {
      "text/plain": [
       "dict"
      ]
     },
     "execution_count": 2,
     "metadata": {},
     "output_type": "execute_result"
    }
   ],
   "source": [
    "type(Item)"
   ]
  },
  {
   "cell_type": "code",
   "execution_count": 3,
   "id": "348df5f4",
   "metadata": {},
   "outputs": [
    {
     "data": {
      "text/plain": [
       "{'ResponseMetadata': {'RequestId': '5E30OM7O2ABKKEP1QOJKJE3I7BVV4KQNSO5AEMVJF66Q9ASUAAJG',\n",
       "  'HTTPStatusCode': 200,\n",
       "  'HTTPHeaders': {'server': 'Server',\n",
       "   'date': 'Sun, 04 Jul 2021 07:46:34 GMT',\n",
       "   'content-type': 'application/x-amz-json-1.0',\n",
       "   'content-length': '2',\n",
       "   'connection': 'keep-alive',\n",
       "   'x-amzn-requestid': '5E30OM7O2ABKKEP1QOJKJE3I7BVV4KQNSO5AEMVJF66Q9ASUAAJG',\n",
       "   'x-amz-crc32': '2745614147'},\n",
       "  'RetryAttempts': 0}}"
      ]
     },
     "execution_count": 3,
     "metadata": {},
     "output_type": "execute_result"
    }
   ],
   "source": [
    "import boto3\n",
    "dynamodb = boto3.resource('dynamodb')\n",
    "dynamodbTable = dynamodb.Table('test_table')\n",
    "dynamodbTable.put_item(Item=Item)"
   ]
  },
  {
   "cell_type": "code",
   "execution_count": null,
   "id": "308c45c0",
   "metadata": {},
   "outputs": [],
   "source": [
    "import boto3\n",
    "dynamodb = boto3.resource('dynamodb')\n",
    "dynamodbTable = dynamodb.Table('test_table')"
   ]
  },
  {
   "cell_type": "code",
   "execution_count": null,
   "id": "e4a9f5d4",
   "metadata": {},
   "outputs": [],
   "source": [
    "dynamodbTable.put_item(Item=Item)"
   ]
  },
  {
   "cell_type": "code",
   "execution_count": null,
   "id": "212f468c",
   "metadata": {},
   "outputs": [],
   "source": []
  },
  {
   "cell_type": "code",
   "execution_count": null,
   "id": "12d64bb1",
   "metadata": {},
   "outputs": [],
   "source": [
    "dynamodb_table = 'test_table'\n",
    "client = boto3.client('dynamodb')\n",
    "\n",
    "res = client.put_item(\n",
    "  TableName=dynamodb_table,\n",
    "    Item={\n",
    "      'Name'   : {'S':'Duy'},\n",
    "\n",
    "      'Location': {'S':'VN'}\n",
    "      })"
   ]
  },
  {
   "cell_type": "code",
   "execution_count": null,
   "id": "e7d71bc9",
   "metadata": {},
   "outputs": [],
   "source": [
    "|"
   ]
  }
 ],
 "metadata": {
  "kernelspec": {
   "display_name": "Python 3",
   "language": "python",
   "name": "python3"
  },
  "language_info": {
   "codemirror_mode": {
    "name": "ipython",
    "version": 3
   },
   "file_extension": ".py",
   "mimetype": "text/x-python",
   "name": "python",
   "nbconvert_exporter": "python",
   "pygments_lexer": "ipython3",
   "version": "3.8.8"
  }
 },
 "nbformat": 4,
 "nbformat_minor": 5
}
